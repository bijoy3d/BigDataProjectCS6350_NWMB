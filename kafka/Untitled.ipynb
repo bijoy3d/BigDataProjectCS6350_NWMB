{
 "cells": [
  {
   "cell_type": "code",
   "execution_count": 2,
   "id": "56352f22",
   "metadata": {
    "ExecuteTime": {
     "end_time": "2021-11-03T22:07:40.143943Z",
     "start_time": "2021-11-03T22:07:40.135715Z"
    }
   },
   "outputs": [],
   "source": [
    "from pyspark.sql.types import FloatType, IntegerType, StringType, StructType\n",
    "from pyspark.sql.functions import col, explode, from_json\n",
    "\n"
   ]
  },
  {
   "cell_type": "code",
   "execution_count": 7,
   "id": "c764d4cc",
   "metadata": {
    "ExecuteTime": {
     "end_time": "2021-11-03T22:15:42.577386Z",
     "start_time": "2021-11-03T22:15:42.571836Z"
    }
   },
   "outputs": [],
   "source": [
    "schema = StructType().add(\"T\", StringType()).add(\"S\", StringType()).add(\"i\", IntegerType()).add(\"x\", StringType()).add(\"p\", FloatType()).add(\"s\", IntegerType()).add(\"z\", StringType()).add(\"t\", StringType())"
   ]
  },
  {
   "cell_type": "code",
   "execution_count": 14,
   "id": "d0fc2099",
   "metadata": {
    "ExecuteTime": {
     "end_time": "2021-11-03T22:16:42.774150Z",
     "start_time": "2021-11-03T22:16:42.770815Z"
    }
   },
   "outputs": [],
   "source": [
    "a='''[{\"T\":\"t\",\"S\":\"AAPL\",\"i\":3744,\"x\":\"V\",\"p\":151.09,\"s\":197,\"c\":[\"@\"],\"z\":\"C\",\"t\":\"2021-11-03T19:01:58.453206094Z\"}]'''"
   ]
  },
  {
   "cell_type": "code",
   "execution_count": 15,
   "id": "932e2ee3",
   "metadata": {
    "ExecuteTime": {
     "end_time": "2021-11-03T22:16:43.469205Z",
     "start_time": "2021-11-03T22:16:43.457147Z"
    }
   },
   "outputs": [
    {
     "ename": "AttributeError",
     "evalue": "'NoneType' object has no attribute '_jvm'",
     "output_type": "error",
     "traceback": [
      "\u001b[0;31m---------------------------------------------------------------------------\u001b[0m",
      "\u001b[0;31mAttributeError\u001b[0m                            Traceback (most recent call last)",
      "\u001b[0;32m<ipython-input-15-f07e38ead890>\u001b[0m in \u001b[0;36m<module>\u001b[0;34m\u001b[0m\n\u001b[0;32m----> 1\u001b[0;31m \u001b[0mfrom_json\u001b[0m\u001b[0;34m(\u001b[0m\u001b[0ma\u001b[0m\u001b[0;34m,\u001b[0m \u001b[0mschema\u001b[0m\u001b[0;34m)\u001b[0m\u001b[0;34m\u001b[0m\u001b[0;34m\u001b[0m\u001b[0m\n\u001b[0m",
      "\u001b[0;32m~/my_env/lib/python3.6/site-packages/pyspark/sql/functions.py\u001b[0m in \u001b[0;36mfrom_json\u001b[0;34m(col, schema, options)\u001b[0m\n\u001b[1;32m   3741\u001b[0m     \u001b[0;32melif\u001b[0m \u001b[0misinstance\u001b[0m\u001b[0;34m(\u001b[0m\u001b[0mschema\u001b[0m\u001b[0;34m,\u001b[0m \u001b[0mColumn\u001b[0m\u001b[0;34m)\u001b[0m\u001b[0;34m:\u001b[0m\u001b[0;34m\u001b[0m\u001b[0;34m\u001b[0m\u001b[0m\n\u001b[1;32m   3742\u001b[0m         \u001b[0mschema\u001b[0m \u001b[0;34m=\u001b[0m \u001b[0m_to_java_column\u001b[0m\u001b[0;34m(\u001b[0m\u001b[0mschema\u001b[0m\u001b[0;34m)\u001b[0m\u001b[0;34m\u001b[0m\u001b[0;34m\u001b[0m\u001b[0m\n\u001b[0;32m-> 3743\u001b[0;31m     \u001b[0mjc\u001b[0m \u001b[0;34m=\u001b[0m \u001b[0msc\u001b[0m\u001b[0;34m.\u001b[0m\u001b[0m_jvm\u001b[0m\u001b[0;34m.\u001b[0m\u001b[0mfunctions\u001b[0m\u001b[0;34m.\u001b[0m\u001b[0mfrom_json\u001b[0m\u001b[0;34m(\u001b[0m\u001b[0m_to_java_column\u001b[0m\u001b[0;34m(\u001b[0m\u001b[0mcol\u001b[0m\u001b[0;34m)\u001b[0m\u001b[0;34m,\u001b[0m \u001b[0mschema\u001b[0m\u001b[0;34m,\u001b[0m \u001b[0m_options_to_str\u001b[0m\u001b[0;34m(\u001b[0m\u001b[0moptions\u001b[0m\u001b[0;34m)\u001b[0m\u001b[0;34m)\u001b[0m\u001b[0;34m\u001b[0m\u001b[0;34m\u001b[0m\u001b[0m\n\u001b[0m\u001b[1;32m   3744\u001b[0m     \u001b[0;32mreturn\u001b[0m \u001b[0mColumn\u001b[0m\u001b[0;34m(\u001b[0m\u001b[0mjc\u001b[0m\u001b[0;34m)\u001b[0m\u001b[0;34m\u001b[0m\u001b[0;34m\u001b[0m\u001b[0m\n\u001b[1;32m   3745\u001b[0m \u001b[0;34m\u001b[0m\u001b[0m\n",
      "\u001b[0;31mAttributeError\u001b[0m: 'NoneType' object has no attribute '_jvm'"
     ]
    }
   ],
   "source": [
    "from_json(a, schema)"
   ]
  },
  {
   "cell_type": "code",
   "execution_count": null,
   "id": "fdb69642",
   "metadata": {},
   "outputs": [],
   "source": []
  }
 ],
 "metadata": {
  "kernelspec": {
   "display_name": "Python 3",
   "language": "python",
   "name": "python3"
  },
  "language_info": {
   "codemirror_mode": {
    "name": "ipython",
    "version": 3
   },
   "file_extension": ".py",
   "mimetype": "text/x-python",
   "name": "python",
   "nbconvert_exporter": "python",
   "pygments_lexer": "ipython3",
   "version": "3.6.9"
  }
 },
 "nbformat": 4,
 "nbformat_minor": 5
}
