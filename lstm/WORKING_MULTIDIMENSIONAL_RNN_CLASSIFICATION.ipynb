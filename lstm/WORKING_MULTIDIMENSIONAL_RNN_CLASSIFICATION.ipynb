{
 "cells": [
  {
   "cell_type": "code",
   "execution_count": 1,
   "id": "ef77dc2a",
   "metadata": {
    "ExecuteTime": {
     "end_time": "2021-11-22T18:59:35.615597Z",
     "start_time": "2021-11-22T18:59:35.041570Z"
    }
   },
   "outputs": [],
   "source": [
    "import numpy as np\n",
    "import copy\n",
    "from io import StringIO\n",
    "import pandas as pd\n",
    "import matplotlib.pyplot as plt\n",
    "%matplotlib inline"
   ]
  },
  {
   "cell_type": "code",
   "execution_count": 41,
   "id": "f3a7b285",
   "metadata": {
    "ExecuteTime": {
     "end_time": "2021-11-22T20:44:35.484405Z",
     "start_time": "2021-11-22T20:44:35.469919Z"
    }
   },
   "outputs": [
    {
     "name": "stdout",
     "output_type": "stream",
     "text": [
      "[[1]\n",
      " [2]\n",
      " [0]\n",
      " [2]\n",
      " [0]\n",
      " [1]\n",
      " [2]\n",
      " [1]]\n",
      "--\n",
      "8\n"
     ]
    }
   ],
   "source": [
    "dataset=StringIO(\"\"\"Date,Open,High,Low,Close,Volume,Trade_count,Vwap\n",
    "2015-12-01 09:00:00+00:00,118.88,118.94,118.88,118.94,1145,5,118.902052\n",
    "2015-12-01 09:15:00+00:00,118.77,118.77,118.77,118.77,200,1,118.77\n",
    "2015-12-01 09:30:00+00:00,118.69,118.69,118.6,118.6,900,4,118.61\n",
    "2015-12-01 09:45:00+00:00,118.64,118.65,118.64,118.65,3580,5,118.648883\n",
    "2015-12-01 10:00:00+00:00,118.65,118.65,118.55,118.55,1820,4,118.611538\n",
    "2015-12-01 10:15:00+00:00,118.55,118.6,118.55,118.6,880,5,118.5625\n",
    "2015-12-01 10:30:00+00:00,118.55,118.55,118.5,118.5,1878,5,118.513312\n",
    "2015-12-01 10:45:00+00:00,118.59,118.72,118.59,118.72,2499,10,118.628431\n",
    "2015-12-01 11:00:00+00:00,118.71,118.9,118.71,118.9,2842,11,118.86064\n",
    "2015-12-01 11:15:00+00:00,118.87,118.87,118.87,118.87,300,2,118.87\n",
    "2015-12-01 11:30:00+00:00,118.78,118.8,118.76,118.8,3914,22,118.785876\n",
    "2015-12-01 11:45:00+00:00,118.8,118.99,118.77,118.9,7900,37,118.893542\n",
    "2015-12-01 12:00:00+00:00,118.88,118.98,118.84,118.84,6540,34,118.922648\n",
    "2015-12-01 12:15:00+00:00,118.82,118.84,118.77,118.77,5603,28,118.804962\n",
    "2015-12-01 12:30:00+00:00,118.77,118.89,118.76,118.88,7612,31,118.824002\n",
    "\"\"\")\n",
    "df = pd.read_table(dataset, sep=\",\")\n",
    "\n",
    "#ip = np.array([ [1,2,3],[6,8,9],[3,4,5],[4,7,8],[4,2,5],[5,7,4] ])\n",
    "#op = np.array([[2,8,4,7,2,4]])\n",
    "#op = op.reshape(6,1)\n",
    "ip = np.array([ [1],  [2],  [0],  [2],  [0],  [1],  [2],  [1] ])\n",
    "op = np.array([ [300],[100],[200],[100],[200],[300],[100],[300] ])\n",
    "num_steps = 3\n",
    "num_features = 3\n",
    "#ip_shaped = np.reshape(ip, newshape=(-1, num_steps, num_features))\n",
    "\n",
    "#X = np.array([ [1,2,3, 4, 5, 6] ])\n",
    "#Y = np.array([[2,3,4,5,6,7]])\n",
    "print(ip)\n",
    "print(\"--\")\n",
    "#ip= np.tile(ip,(50,1))\n",
    "#op = np.tile(op,(50,1))\n",
    "print(len(op))\n",
    "#ip = np.array([ [1],[1],[1],[1],[1],[2],[1],[2]])\n",
    "#op = np.array([ [1,    0,    1,    0,    1,    1,    0,    1 ]]).T\n",
    "\n",
    "#ip = np.array([ [1,1,2],[1,2,1],[1,0,2],[1,2,1],[1,0,2],[1,1,2],[1,2,1],[1,1,2]])\n",
    "#op = np.array([ [1,    0,    1,    0,    1,    1,    0,    1 ]]).T\n",
    "ip = np.array([ [1,1,1,1,1],[0,2,2,2,2],[1,3,3,3,3],[1,4,4,4,4],[0,5,5,5,5],[0,6,6,6,6],[1,7,7,7,7],[0,8,8,8,8]])\n",
    "op = np.array([ [1,          0,          1,          1,          0,          0,          1,          0 ]]).T\n",
    "_, numFeats = ip.shape"
   ]
  },
  {
   "cell_type": "code",
   "execution_count": 42,
   "id": "1581704c",
   "metadata": {
    "ExecuteTime": {
     "end_time": "2021-11-22T20:44:35.822221Z",
     "start_time": "2021-11-22T20:44:35.813873Z"
    }
   },
   "outputs": [],
   "source": [
    "def lstm_data_transform(x_data, y_data, timeSteps=2):\n",
    "    \"\"\" Changes data to the format for LSTM training \n",
    "for sliding window approach \"\"\"\n",
    "    # Prepare the list for the transformed data\n",
    "    X, y = list(), list()\n",
    "    # Loop of the entire data set\n",
    "    #print(x_data.shape[0])\n",
    "    for i in range(x_data.shape[0]):\n",
    "        # compute a new (sliding window) index\n",
    "        end_ix = i + timeSteps\n",
    "\n",
    "        # if index is larger than the size of the dataset, we stop\n",
    "        #print(end_ix)\n",
    "        if end_ix >= x_data.shape[0]:\n",
    "            break\n",
    "        # Get a sequence of data for x\n",
    "        seq_X = x_data[i:end_ix]\n",
    "        #print(x_data[i:end_ix])\n",
    "        # Get only the last element of the sequency for y\n",
    "        #print(y_data[end_ix])\n",
    "        seq_y = y_data[i:end_ix]\n",
    "        # Append the list with sequencies\n",
    "        X.append(seq_X)\n",
    "        y.append(seq_y)\n",
    "    # Make final arrays\n",
    "    x_array = np.array(X)\n",
    "    y_array = np.array(y)\n",
    "    return x_array, y_array"
   ]
  },
  {
   "cell_type": "code",
   "execution_count": 43,
   "id": "8de04139",
   "metadata": {
    "ExecuteTime": {
     "end_time": "2021-11-22T20:44:36.132261Z",
     "start_time": "2021-11-22T20:44:36.126836Z"
    }
   },
   "outputs": [
    {
     "name": "stdout",
     "output_type": "stream",
     "text": [
      "[[[1 1 1 1 1]\n",
      "  [0 2 2 2 2]\n",
      "  [1 3 3 3 3]]\n",
      "\n",
      " [[0 2 2 2 2]\n",
      "  [1 3 3 3 3]\n",
      "  [1 4 4 4 4]]\n",
      "\n",
      " [[1 3 3 3 3]\n",
      "  [1 4 4 4 4]\n",
      "  [0 5 5 5 5]]\n",
      "\n",
      " [[1 4 4 4 4]\n",
      "  [0 5 5 5 5]\n",
      "  [0 6 6 6 6]]\n",
      "\n",
      " [[0 5 5 5 5]\n",
      "  [0 6 6 6 6]\n",
      "  [1 7 7 7 7]]]\n",
      "(5, 3, 5)\n",
      "(3, 5)\n",
      "(5, 3, 1)\n",
      "====\n",
      "[[[1]\n",
      "  [0]\n",
      "  [1]]\n",
      "\n",
      " [[0]\n",
      "  [1]\n",
      "  [1]]\n",
      "\n",
      " [[1]\n",
      "  [1]\n",
      "  [0]]\n",
      "\n",
      " [[1]\n",
      "  [0]\n",
      "  [0]]\n",
      "\n",
      " [[0]\n",
      "  [0]\n",
      "  [1]]]\n"
     ]
    }
   ],
   "source": [
    "timeSteps = 3\n",
    "\n",
    "ipt,opt=lstm_data_transform(ip,op, timeSteps)\n",
    "print(ipt)\n",
    "print(ipt.shape)\n",
    "print(ipt[0].shape)\n",
    "print(opt.shape)\n",
    "\n",
    "print(\"====\")\n",
    "print(opt)\n",
    "batchSize = len(ipt)\n"
   ]
  },
  {
   "cell_type": "code",
   "execution_count": 5,
   "id": "9912c5b8",
   "metadata": {
    "ExecuteTime": {
     "end_time": "2021-11-22T18:59:43.076344Z",
     "start_time": "2021-11-22T18:59:43.071902Z"
    }
   },
   "outputs": [],
   "source": [
    "# convert output of sigmoid function to its derivative\n",
    "def sigmoid_output_to_derivative(output):\n",
    "    return output*(1-output)\n",
    "\n",
    "# compute sigmoid nonlinearity\n",
    "def sigmoid(x):\n",
    "    output = 1/(1+np.exp(-x))\n",
    "    return output\n",
    "\n",
    "\n"
   ]
  },
  {
   "cell_type": "code",
   "execution_count": 77,
   "id": "c4bbee00",
   "metadata": {
    "ExecuteTime": {
     "end_time": "2021-11-22T21:48:55.556467Z",
     "start_time": "2021-11-22T21:47:51.665959Z"
    }
   },
   "outputs": [
    {
     "name": "stdout",
     "output_type": "stream",
     "text": [
      "\n",
      "Training With Alpha:0.1\n",
      "0\n",
      "Error:6.180464144676781\n",
      "Prediction:\n"
     ]
    },
    {
     "data": {
      "text/plain": [
       "array([[[0, 0, 0, 0, 0],\n",
       "        [0, 0, 0, 0, 0],\n",
       "        [0, 0, 0, 0, 0]]])"
      ]
     },
     "metadata": {},
     "output_type": "display_data"
    },
    {
     "name": "stdout",
     "output_type": "stream",
     "text": [
      "Real:\n"
     ]
    },
    {
     "data": {
      "text/plain": [
       "array([[[1, 0, 1, 1, 0],\n",
       "        [0, 1, 1, 0, 0],\n",
       "        [1, 1, 0, 0, 1]]])"
      ]
     },
     "metadata": {},
     "output_type": "display_data"
    },
    {
     "name": "stdout",
     "output_type": "stream",
     "text": [
      "10000\n",
      "Error:0.011603897421341375\n",
      "Prediction:\n"
     ]
    },
    {
     "data": {
      "text/plain": [
       "array([[[1, 1, 0, 1, 0],\n",
       "        [1, 1, 0, 1, 0],\n",
       "        [1, 1, 0, 1, 0]]])"
      ]
     },
     "metadata": {},
     "output_type": "display_data"
    },
    {
     "name": "stdout",
     "output_type": "stream",
     "text": [
      "Real:\n"
     ]
    },
    {
     "data": {
      "text/plain": [
       "array([[[1, 0, 1, 1, 0],\n",
       "        [0, 1, 1, 0, 0],\n",
       "        [1, 1, 0, 0, 1]]])"
      ]
     },
     "metadata": {},
     "output_type": "display_data"
    },
    {
     "name": "stdout",
     "output_type": "stream",
     "text": [
      "20000\n",
      "Error:0.007788071261285979\n",
      "Prediction:\n"
     ]
    },
    {
     "data": {
      "text/plain": [
       "array([[[1, 1, 0, 1, 0],\n",
       "        [1, 1, 0, 1, 0],\n",
       "        [1, 1, 0, 1, 0]]])"
      ]
     },
     "metadata": {},
     "output_type": "display_data"
    },
    {
     "name": "stdout",
     "output_type": "stream",
     "text": [
      "Real:\n"
     ]
    },
    {
     "data": {
      "text/plain": [
       "array([[[1, 0, 1, 1, 0],\n",
       "        [0, 1, 1, 0, 0],\n",
       "        [1, 1, 0, 0, 1]]])"
      ]
     },
     "metadata": {},
     "output_type": "display_data"
    },
    {
     "name": "stdout",
     "output_type": "stream",
     "text": [
      "30000\n",
      "Error:0.006147031554795493\n",
      "Prediction:\n"
     ]
    },
    {
     "data": {
      "text/plain": [
       "array([[[1, 1, 0, 1, 0],\n",
       "        [1, 1, 0, 1, 0],\n",
       "        [1, 1, 0, 1, 0]]])"
      ]
     },
     "metadata": {},
     "output_type": "display_data"
    },
    {
     "name": "stdout",
     "output_type": "stream",
     "text": [
      "Real:\n"
     ]
    },
    {
     "data": {
      "text/plain": [
       "array([[[1, 0, 1, 1, 0],\n",
       "        [0, 1, 1, 0, 0],\n",
       "        [1, 1, 0, 0, 1]]])"
      ]
     },
     "metadata": {},
     "output_type": "display_data"
    },
    {
     "name": "stdout",
     "output_type": "stream",
     "text": [
      "40000\n",
      "Error:0.0051904111520404105\n",
      "Prediction:\n"
     ]
    },
    {
     "data": {
      "text/plain": [
       "array([[[1, 1, 0, 1, 0],\n",
       "        [1, 1, 0, 1, 0],\n",
       "        [1, 1, 0, 1, 0]]])"
      ]
     },
     "metadata": {},
     "output_type": "display_data"
    },
    {
     "name": "stdout",
     "output_type": "stream",
     "text": [
      "Real:\n"
     ]
    },
    {
     "data": {
      "text/plain": [
       "array([[[1, 0, 1, 1, 0],\n",
       "        [0, 1, 1, 0, 0],\n",
       "        [1, 1, 0, 0, 1]]])"
      ]
     },
     "metadata": {},
     "output_type": "display_data"
    },
    {
     "name": "stdout",
     "output_type": "stream",
     "text": [
      "50000\n",
      "Error:0.004549554527866617\n",
      "Prediction:\n"
     ]
    },
    {
     "data": {
      "text/plain": [
       "array([[[1, 1, 0, 1, 0],\n",
       "        [1, 1, 0, 1, 0],\n",
       "        [1, 1, 0, 1, 0]]])"
      ]
     },
     "metadata": {},
     "output_type": "display_data"
    },
    {
     "name": "stdout",
     "output_type": "stream",
     "text": [
      "Real:\n"
     ]
    },
    {
     "data": {
      "text/plain": [
       "array([[[1, 0, 1, 1, 0],\n",
       "        [0, 1, 1, 0, 0],\n",
       "        [1, 1, 0, 0, 1]]])"
      ]
     },
     "metadata": {},
     "output_type": "display_data"
    },
    {
     "name": "stdout",
     "output_type": "stream",
     "text": [
      "60000\n",
      "Error:0.0040839120672077674\n",
      "Prediction:\n"
     ]
    },
    {
     "data": {
      "text/plain": [
       "array([[[1, 1, 0, 1, 0],\n",
       "        [1, 1, 0, 1, 0],\n",
       "        [1, 1, 0, 1, 0]]])"
      ]
     },
     "metadata": {},
     "output_type": "display_data"
    },
    {
     "name": "stdout",
     "output_type": "stream",
     "text": [
      "Real:\n"
     ]
    },
    {
     "data": {
      "text/plain": [
       "array([[[1, 0, 1, 1, 0],\n",
       "        [0, 1, 1, 0, 0],\n",
       "        [1, 1, 0, 0, 1]]])"
      ]
     },
     "metadata": {},
     "output_type": "display_data"
    },
    {
     "name": "stdout",
     "output_type": "stream",
     "text": [
      "70000\n",
      "Error:0.0037269681097673486\n",
      "Prediction:\n"
     ]
    },
    {
     "data": {
      "text/plain": [
       "array([[[1, 1, 0, 1, 0],\n",
       "        [1, 1, 0, 1, 0],\n",
       "        [1, 1, 0, 1, 0]]])"
      ]
     },
     "metadata": {},
     "output_type": "display_data"
    },
    {
     "name": "stdout",
     "output_type": "stream",
     "text": [
      "Real:\n"
     ]
    },
    {
     "data": {
      "text/plain": [
       "array([[[1, 0, 1, 1, 0],\n",
       "        [0, 1, 1, 0, 0],\n",
       "        [1, 1, 0, 0, 1]]])"
      ]
     },
     "metadata": {},
     "output_type": "display_data"
    },
    {
     "name": "stdout",
     "output_type": "stream",
     "text": [
      "80000\n",
      "Error:0.0034427352956163592\n",
      "Prediction:\n"
     ]
    },
    {
     "data": {
      "text/plain": [
       "array([[[1, 1, 0, 1, 0],\n",
       "        [1, 1, 0, 1, 0],\n",
       "        [1, 1, 0, 1, 0]]])"
      ]
     },
     "metadata": {},
     "output_type": "display_data"
    },
    {
     "name": "stdout",
     "output_type": "stream",
     "text": [
      "Real:\n"
     ]
    },
    {
     "data": {
      "text/plain": [
       "array([[[1, 0, 1, 1, 0],\n",
       "        [0, 1, 1, 0, 0],\n",
       "        [1, 1, 0, 0, 1]]])"
      ]
     },
     "metadata": {},
     "output_type": "display_data"
    },
    {
     "name": "stdout",
     "output_type": "stream",
     "text": [
      "90000\n",
      "Error:0.0032098658443476856\n",
      "Prediction:\n"
     ]
    },
    {
     "data": {
      "text/plain": [
       "array([[[1, 1, 0, 1, 0],\n",
       "        [1, 1, 0, 1, 0],\n",
       "        [1, 1, 0, 1, 0]]])"
      ]
     },
     "metadata": {},
     "output_type": "display_data"
    },
    {
     "name": "stdout",
     "output_type": "stream",
     "text": [
      "Real:\n"
     ]
    },
    {
     "data": {
      "text/plain": [
       "array([[[1, 0, 1, 1, 0],\n",
       "        [0, 1, 1, 0, 0],\n",
       "        [1, 1, 0, 0, 1]]])"
      ]
     },
     "metadata": {},
     "output_type": "display_data"
    },
    {
     "name": "stdout",
     "output_type": "stream",
     "text": [
      "100000\n",
      "Error:0.003014811502792387\n",
      "Prediction:\n"
     ]
    },
    {
     "data": {
      "text/plain": [
       "array([[[1, 1, 0, 1, 0],\n",
       "        [1, 1, 0, 1, 0],\n",
       "        [1, 1, 0, 1, 0]]])"
      ]
     },
     "metadata": {},
     "output_type": "display_data"
    },
    {
     "name": "stdout",
     "output_type": "stream",
     "text": [
      "Real:\n"
     ]
    },
    {
     "data": {
      "text/plain": [
       "array([[[1, 0, 1, 1, 0],\n",
       "        [0, 1, 1, 0, 0],\n",
       "        [1, 1, 0, 0, 1]]])"
      ]
     },
     "metadata": {},
     "output_type": "display_data"
    }
   ],
   "source": [
    "import numpy as np\n",
    "hd=50\n",
    "ipd = timeSteps\n",
    "od = 1\n",
    "\n",
    "alpha = .1\n",
    "\n",
    "print(\"\\nTraining With Alpha:\" + str(alpha))\n",
    "\n",
    "# randomly initialize our weights with mean 0\n",
    "wxh = 2*np.random.random((numFeats,hd)) - 1\n",
    "who = 2*np.random.random((hd,od)) - 1\n",
    "whh = 2*np.random.random((hd,hd)) - 1\n",
    "\n",
    "wxhupd = np.zeros_like(wxh)\n",
    "whoupd = np.zeros_like(who)\n",
    "whhupd = np.zeros_like(whh)\n",
    "\n",
    "def p(j, msg):\n",
    "    if(j % 1000 == 0):\n",
    "        display(msg)\n",
    "        print(\"---\")\n",
    "\n",
    "for j in range(100001):\n",
    "    count = 0\n",
    "    l2_deltas = list()\n",
    "    l1_values = list()\n",
    "    l1_values.append(np.zeros(hd))\n",
    "    \n",
    "    d = np.zeros_like(opt)\n",
    "    overallError = 0\n",
    "\n",
    "    for inp in ipt:\n",
    "        X = inp\n",
    "        y = opt[count]\n",
    "        count+=1\n",
    "        prevHidWeights = l1_values[-1]\n",
    "  \n",
    "        inpWeights = np.dot(X,wxh)\n",
    "        hidWeights = np.dot(prevHidWeights,whh)\n",
    "        # hidden layer (input ~+ prev_hidden)\n",
    "        l1 = sigmoid(inpWeights + hidWeights)\n",
    "        # output layer (new price)\n",
    "        opWeights  = np.dot(l1,who)       \n",
    "        l2 = sigmoid(opWeights)\n",
    "        # how much did we miss the target value?\n",
    "        #l2_error = (np.square(y - l2)).mean(axis=0)\n",
    "        l2_error = y - l2\n",
    "        \n",
    "        l2_deltas.append((l2_error)*sigmoid_output_to_derivative(l2))\n",
    "        overallError += np.abs(np.sum(l2_error))\n",
    "    \n",
    "        # decode estimate so we can print it out\n",
    "        d[numFeats - count - 1] = np.round(l2[0][-1])\n",
    "\n",
    "        # store hidden layer so we can use it in the next timestep\n",
    "        l1_values.append(copy.deepcopy(l1))\n",
    "        \n",
    "        \n",
    "    future_l1_delta = np.zeros(hd)\n",
    "    count = 0\n",
    "    for inp in reversed(ipt):\n",
    "        X= inp\n",
    "        y = opt[-count-1]\n",
    "\n",
    "        l1 = l1_values[-count-1]\n",
    "        prev_l1 = l1_values[-count-2]\n",
    "        \n",
    "        # error at output layer\n",
    "        l2_delta = l2_deltas[-count-1]\n",
    "        # error at hidden layer\n",
    "        l1_delta = (future_l1_delta.dot(whh.T) + l2_delta.dot(who.T)) * sigmoid_output_to_derivative(l1)\n",
    "        \n",
    "        # let's update all our weights so we can try again\n",
    "        whoupd += np.atleast_2d(l1).T.dot(l2_delta)\n",
    "        if l1_delta.shape != prev_l1.shape:\n",
    "            prev_l1 = np.tile(prev_l1, (timeSteps, 1))\n",
    "\n",
    "        whhupd += np.atleast_2d(prev_l1).T.dot(l1_delta)\n",
    "        wxhupd += X.T.dot(l1_delta)\n",
    "        \n",
    "        future_l1_delta = l1_delta\n",
    "        count+=1\n",
    "\n",
    "    wxh += wxhupd * alpha\n",
    "    who += whoupd * alpha\n",
    "    whh += whhupd * alpha    \n",
    "\n",
    "    # print out progress\n",
    "    if(j % 10000 == 0):\n",
    "        print(j)\n",
    "        print(\"Error:\" + str(overallError))\n",
    "        print(\"Prediction:\")\n",
    "        display(d.T)\n",
    "        print(\"Real:\")\n",
    "        display(opt.T)\n",
    "#         print(\"------------\")\n",
    "\n",
    "    \n",
    "    wxhupd *= 0\n",
    "    whoupd *= 0\n",
    "    whhupd *= 0"
   ]
  },
  {
   "cell_type": "code",
   "execution_count": null,
   "id": "cc129d90",
   "metadata": {
    "ExecuteTime": {
     "end_time": "2021-11-22T02:42:46.477928Z",
     "start_time": "2021-11-22T02:42:46.435816Z"
    }
   },
   "outputs": [],
   "source": []
  },
  {
   "cell_type": "code",
   "execution_count": null,
   "id": "bfcd3cb0",
   "metadata": {},
   "outputs": [],
   "source": []
  }
 ],
 "metadata": {
  "kernelspec": {
   "display_name": "Python 3",
   "language": "python",
   "name": "python3"
  },
  "language_info": {
   "codemirror_mode": {
    "name": "ipython",
    "version": 3
   },
   "file_extension": ".py",
   "mimetype": "text/x-python",
   "name": "python",
   "nbconvert_exporter": "python",
   "pygments_lexer": "ipython3",
   "version": "3.6.9"
  }
 },
 "nbformat": 4,
 "nbformat_minor": 5
}
